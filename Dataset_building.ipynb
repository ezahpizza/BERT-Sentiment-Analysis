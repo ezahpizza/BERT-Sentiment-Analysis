{
 "cells": [
  {
   "cell_type": "markdown",
   "metadata": {
    "id": "To_vEWFURtMX"
   },
   "source": [
    "# Create a Dataset for Sentiment Analysis"
   ]
  },
  {
   "cell_type": "markdown",
   "metadata": {
    "id": "Y6gEob5LRoQB"
   },
   "source": [
    "In this notebook,we will create a dataset for Sentiment Analysis by scraping user reviews for Android apps. We'll convert the app and review information into Data Frames and save that to CSV files.\n",
    "\n",
    "Through this step we will:\n",
    "\n",
    "- Set a goal and inclusion criteria for your dataset\n",
    "- Get real-world user reviews by scraping Google Play\n",
    "- Use Pandas to convert and save the dataset into CSV files"
   ]
  },
  {
   "cell_type": "markdown",
   "metadata": {
    "id": "ILxYFPjkSILt"
   },
   "source": [
    "## The Goal of the Dataset\n",
    "\n",
    "You wish to hear user opinions on your app. Both bad and wonderful things are beneficial. However, the negative one can highlight missing important features or service outages (when they occur significantly more frequently).\n",
    "\n",
    "Fortunately, Google Play offers a vast selection of apps, ratings, and reviews. We can use the [google-play-scraper](https://github.com/JoMingyu/google-play-scraper) package to scrape reviews and app information.\n",
    "\n",
    "There are several apps available for you to evaluate. However, distinct app categories have unique audiences, peculiarities unique to their domains, and more. Let's get basic first.\n",
    "\n",
    "We want apps that have been around for a while, as this allows opinions to naturally arise. Our goal is to minimize the use of advertising tactics. Since apps are updated often, the timing of the review is crucial.\n",
    "\n",
    "Ideally, you should gather each and every review that is available and use it. But in reality, data is frequently scarce (too big, unreachable, etc.). So we'll try our hardest.\n",
    "\n",
    "Let's select a few apps from the *Productivity* category that meet the requirements. Here are a few of the most popular US apps:\n",
    "\n",
    "\n"
   ]
  },
  {
   "cell_type": "markdown",
   "metadata": {},
   "source": [
    "# Table of Contents\n",
    "1. [Setup](#Setup)\n",
    "2. [Scraping App Information](#Scraping_App_Information)\n",
    "3. [Scraping App Reviews](#Scraping_App_Reviews)\n",
    "4. [Summary](#Summary)\n",
    "5. [References](#References)"
   ]
  },
  {
   "cell_type": "markdown",
   "metadata": {
    "id": "VI1Dobd2a3ZS"
   },
   "source": [
    "## Setup <a id='Setup'></a>\n",
    "\n",
    "Installing the required packages and setup the imports:"
   ]
  },
  {
   "cell_type": "code",
   "execution_count": 1,
   "metadata": {
    "colab": {
     "base_uri": "https://localhost:8080/"
    },
    "id": "we0MhlUF_-uO",
    "outputId": "c71aa825-60e9-4fb1-cab7-395b81abe20a"
   },
   "outputs": [],
   "source": [
    "!pip install -qq google-play-scraper"
   ]
  },
  {
   "cell_type": "code",
   "execution_count": 2,
   "metadata": {
    "id": "1rxopHVPO-WO"
   },
   "outputs": [],
   "source": [
    "!pip install -qq -U watermark"
   ]
  },
  {
   "cell_type": "code",
   "execution_count": 3,
   "metadata": {
    "colab": {
     "base_uri": "https://localhost:8080/"
    },
    "id": "NtL0sXa5PDsG",
    "outputId": "31ef4e9b-05c4-4831-ac54-ce60832eb628"
   },
   "outputs": [
    {
     "name": "stdout",
     "output_type": "stream",
     "text": [
      "Python implementation: CPython\n",
      "Python version       : 3.9.19\n",
      "IPython version      : 7.31.1\n",
      "\n",
      "pandas             : 2.2.2\n",
      "matplotlib         : 3.9.2\n",
      "seaborn            : 0.13.2\n",
      "google_play_scraper: 1.2.7\n",
      "\n"
     ]
    }
   ],
   "source": [
    "%reload_ext watermark\n",
    "%watermark -v -p pandas,matplotlib,seaborn,google_play_scraper"
   ]
  },
  {
   "cell_type": "code",
   "execution_count": 4,
   "metadata": {
    "id": "KO_DkQb1AeSY"
   },
   "outputs": [],
   "source": [
    "import json\n",
    "import pandas as pd\n",
    "from tqdm import tqdm\n",
    "\n",
    "import seaborn as sns\n",
    "import matplotlib.pyplot as plt\n",
    "\n",
    "from pygments import highlight\n",
    "from pygments.lexers import JsonLexer\n",
    "from pygments.formatters import TerminalFormatter\n",
    "\n",
    "from google_play_scraper import Sort, reviews, app\n",
    "\n",
    "%matplotlib inline\n",
    "%config InlineBackend.figure_format='retina'\n",
    "\n",
    "sns.set(style='whitegrid', palette='muted', font_scale=1.2)"
   ]
  },
  {
   "cell_type": "code",
   "execution_count": 5,
   "metadata": {
    "id": "AyooW6bBAIl6"
   },
   "outputs": [],
   "source": [
    "app_packages = [\n",
    "  'com.anydo',\n",
    "  'com.todoist',\n",
    "  'com.ticktick.task',\n",
    "  'com.habitrpg.android.habitica',\n",
    "  'cc.forestapp',\n",
    "  'com.oristats.habitbull',\n",
    "  'com.levor.liferpgtasks',\n",
    "  'com.habitnow',\n",
    "  'com.microsoft.todos',\n",
    "  'prox.lab.calclock',\n",
    "  'com.gmail.jmartindev.timetune',\n",
    "  'com.artfulagenda.app',\n",
    "  'com.tasks.android',\n",
    "  'com.appgenix.bizcal',\n",
    "  'com.appxy.planner'\n",
    "]"
   ]
  },
  {
   "cell_type": "markdown",
   "metadata": {
    "id": "EAxBAfyiZ-QC"
   },
   "source": [
    "## Scraping App Information <a id=\"Scraping_App_Information\"></a>\n",
    "\n",
    "Let's scrape the info for each app:"
   ]
  },
  {
   "cell_type": "code",
   "execution_count": 6,
   "metadata": {
    "colab": {
     "base_uri": "https://localhost:8080/"
    },
    "id": "zusDZbd4AoOG",
    "outputId": "ca54d434-1d90-406f-b8c5-b9c5642c5c2e"
   },
   "outputs": [
    {
     "name": "stderr",
     "output_type": "stream",
     "text": [
      "100%|██████████| 15/15 [00:10<00:00,  1.38it/s]\n"
     ]
    }
   ],
   "source": [
    "app_infos = []\n",
    "\n",
    "for ap in tqdm(app_packages):\n",
    "  info = app(ap, lang='en', country='us')\n",
    "  del info['comments']\n",
    "  app_infos.append(info)"
   ]
  },
  {
   "cell_type": "markdown",
   "metadata": {
    "id": "HcqDfOxyNWrA"
   },
   "source": [
    "All 15 apps' information was obtained. Let's create a helper method that produces slightly better JSON object printing:"
   ]
  },
  {
   "cell_type": "code",
   "execution_count": 7,
   "metadata": {
    "id": "4n-vkhrZJPp_"
   },
   "outputs": [],
   "source": [
    "def print_json(json_object):\n",
    "  json_str = json.dumps(\n",
    "    json_object,\n",
    "    indent=2,\n",
    "    sort_keys=True,\n",
    "    default=str\n",
    "  )\n",
    "  print(highlight(json_str, JsonLexer(), TerminalFormatter()))"
   ]
  },
  {
   "cell_type": "markdown",
   "metadata": {
    "id": "385fEVLONdac"
   },
   "source": [
    "Sample app information from the list:"
   ]
  },
  {
   "cell_type": "code",
   "execution_count": 8,
   "metadata": {
    "colab": {
     "base_uri": "https://localhost:8080/"
    },
    "id": "TI1s5NBAEl-X",
    "outputId": "0f22ae28-3995-4931-cdb7-669da1701eee"
   },
   "outputs": [
    {
     "name": "stdout",
     "output_type": "stream",
     "text": [
      "{\u001b[37m\u001b[39;49;00m\n",
      "\u001b[37m  \u001b[39;49;00m\u001b[94m\"adSupported\"\u001b[39;49;00m:\u001b[37m \u001b[39;49;00m\u001b[34mfalse\u001b[39;49;00m,\u001b[37m\u001b[39;49;00m\n",
      "\u001b[37m  \u001b[39;49;00m\u001b[94m\"appId\"\u001b[39;49;00m:\u001b[37m \u001b[39;49;00m\u001b[33m\"com.anydo\"\u001b[39;49;00m,\u001b[37m\u001b[39;49;00m\n",
      "\u001b[37m  \u001b[39;49;00m\u001b[94m\"categories\"\u001b[39;49;00m:\u001b[37m \u001b[39;49;00m[\u001b[37m\u001b[39;49;00m\n",
      "\u001b[37m    \u001b[39;49;00m{\u001b[37m\u001b[39;49;00m\n",
      "\u001b[37m      \u001b[39;49;00m\u001b[94m\"id\"\u001b[39;49;00m:\u001b[37m \u001b[39;49;00m\u001b[33m\"PRODUCTIVITY\"\u001b[39;49;00m,\u001b[37m\u001b[39;49;00m\n",
      "\u001b[37m      \u001b[39;49;00m\u001b[94m\"name\"\u001b[39;49;00m:\u001b[37m \u001b[39;49;00m\u001b[33m\"Productivity\"\u001b[39;49;00m\u001b[37m\u001b[39;49;00m\n",
      "\u001b[37m    \u001b[39;49;00m}\u001b[37m\u001b[39;49;00m\n",
      "\u001b[37m  \u001b[39;49;00m],\u001b[37m\u001b[39;49;00m\n",
      "\u001b[37m  \u001b[39;49;00m\u001b[94m\"containsAds\"\u001b[39;49;00m:\u001b[37m \u001b[39;49;00m\u001b[34mfalse\u001b[39;49;00m,\u001b[37m\u001b[39;49;00m\n",
      "\u001b[37m  \u001b[39;49;00m\u001b[94m\"contentRating\"\u001b[39;49;00m:\u001b[37m \u001b[39;49;00m\u001b[33m\"Everyone\"\u001b[39;49;00m,\u001b[37m\u001b[39;49;00m\n",
      "\u001b[37m  \u001b[39;49;00m\u001b[94m\"contentRatingDescription\"\u001b[39;49;00m:\u001b[37m \u001b[39;49;00m\u001b[34mnull\u001b[39;49;00m,\u001b[37m\u001b[39;49;00m\n",
      "\u001b[37m  \u001b[39;49;00m\u001b[94m\"currency\"\u001b[39;49;00m:\u001b[37m \u001b[39;49;00m\u001b[33m\"USD\"\u001b[39;49;00m,\u001b[37m\u001b[39;49;00m\n",
      "\u001b[37m  \u001b[39;49;00m\u001b[94m\"description\"\u001b[39;49;00m:\u001b[37m \u001b[39;49;00m\u001b[33m\"\\ud83e\\udd47 <b>\\\"#1 To do list app out there\\u201d</b> - WSJ\\r\\n\\ud83c\\udfc6 <b>Editor's Choice</b> by Google\\r\\n\\r\\nOver +40M people, families and teams rely on Any.do to stay organized and get more done. It's a simple and powerful to do list app with built in tasks, reminders, daily planner and calendar - all-in-one.\\r\\n\\r\\n<b>\\ud83e\\udd47 \\\"A MUST HAVE APP\\\" (Lifehacker, NYTimes, USA TODAY).</b>\\r\\n\\r\\nAny.do is a free to-do list, planner & calendar app for managing and organizing your daily tasks, to-do lists, notes, reminders, checklists, calendar events, grocery lists, and more.\\r\\n\\r\\nOrganize your tasks & to-do list\\r\\n\\r\\n\\u2022 ADVANCED CALENDAR & DAILY PLANNER - Keep your to-do list and calendar events always at hand with our calendar widget. Any.do to-do list & planner support daily calendar view, 3-day Calendar view, Weekly calendar view & agenda view, with built-in reminders. Review and organize your calendar events and to do list side by side.\\r\\n\\r\\n\\u2022 SYNCS SEAMLESSLY - Keeps all your to do list, tasks, reminders, notes, calendar & agenda always in sync so you\\u2019ll never forget a thing. Sync your phone\\u2019s calendar, google calendar, Facebook events, outlook calendar, or any other calendar so you don\\u2019t forget an important event. Even on your Wear OS device.\\r\\n\\r\\n\\u2022 SET REMINDERS - One-time reminders, recurring reminders, Location reminders & voice reminders. NEW! Easily create tasks and get reminders in WhatsApp.\\r\\n\\r\\n\\u2022 WORK TOGETHER - Share your to do list and assign tasks with your friends, family & colleagues from your task list to collaborate and get more done. \\r\\n\\r\\n---\\r\\n\\r\\nALL-IN-ONE PLANNER AND CALENDAR APP FOR GETTING THINGS DONE\\r\\nCreate and set reminders with voice to your to do list. \\r\\nFor better task management flow we added a calendar integration to keep your agenda always up to date. \\r\\nFor better productivity, we added recurring reminders, location reminders, one-time reminders, sub-tasks, notes & file attachments. \\r\\nTo keep your to do list up to date, we\\u2019ve added a daily planner and focus mode.\\r\\n\\r\\nINTEGRATIONS\\r\\nAny.do To do list, Calendar, planner & Reminders Integrates with Google Calendar, Outlook, WhatsApp, Slack, Gmail, Google Tasks, Evernote, Trello, Wunderlist, Todoist, Zapier, Asana, Microsoft to-do, Salesforce, OneNote, Google Assistant, Amazon Alexa, Office 365, Exchange, Jira & More.\\r\\n\\r\\nTO DO LIST, CALENDAR, PLANNER & REMINDERS MADE SIMPLE\\r\\nDesigned to keep you on top of your to do list, tasks and calendar events with no hassle. With intuitive drag and drop of tasks, swiping to mark to-do's as complete, and shaking your device to remove completed from your to do list - you can stay organized and enjoy every minute of it.\\r\\n\\r\\nPOWERFUL TO DO LIST TASK MANAGEMENT\\r\\nAdd a to do list item straight from your email / Gmail / Outlook inbox by forwarding to do@any.do. Attach files from your computer, Dropbox, or Google Drive to your to-tasks.\\r\\n\\r\\nDAILY PLANNER AND LIFE ORGANIZER\\r\\nAny.do is a to do list, a calendar, an inbox, a notepad, a checklist, a task list, a board for post its or sticky notes, a task & project management tool, a reminder app, a daily planner, a family organizer, an agenda, a bill planner and overall the simplest productivity tool you will ever have. \\r\\n\\r\\nSHARE LISTS, ASSIGN & ORGANIZE TASKS\\r\\nPlanning & organizing projects has never been easier. Now you can share lists between family members, assign tasks to each other, chat, and much more. Any.do will help you and the people around you stay in sync and get reminders so that you can focus on what matters, knowing you had a productive day and crossed off your to do list.\\r\\n\\r\\nGROCERY LIST AND SHOPPING LIST\\r\\nAny.do task list, calendar, agenda, reminders & planner is also great for shopping lists at the grocery store. Simply create a list on Any.do, share it with your loved ones, and see them adding their shopping items in real time.\"\u001b[39;49;00m,\u001b[37m\u001b[39;49;00m\n",
      "\u001b[37m  \u001b[39;49;00m\u001b[94m\"descriptionHTML\"\u001b[39;49;00m:\u001b[37m \u001b[39;49;00m\u001b[33m\"\\ud83e\\udd47 <b>&quot;#1 To do list app out there\\u201d</b> - WSJ<br>\\ud83c\\udfc6 <b>Editor&#39;s Choice</b> by Google<br><br>Over +40M people, families and teams rely on Any.do to stay organized and get more done. It&#39;s a simple and powerful to do list app with built in tasks, reminders, daily planner and calendar - all-in-one.<br><br><b>\\ud83e\\udd47 &quot;A MUST HAVE APP&quot; (Lifehacker, NYTimes, USA TODAY).</b><br><br>Any.do is a free to-do list, planner &amp; calendar app for managing and organizing your daily tasks, to-do lists, notes, reminders, checklists, calendar events, grocery lists, and more.<br><br>Organize your tasks &amp; to-do list<br><br>\\u2022 ADVANCED CALENDAR &amp; DAILY PLANNER - Keep your to-do list and calendar events always at hand with our calendar widget. Any.do to-do list &amp; planner support daily calendar view, 3-day Calendar view, Weekly calendar view &amp; agenda view, with built-in reminders. Review and organize your calendar events and to do list side by side.<br><br>\\u2022 SYNCS SEAMLESSLY - Keeps all your to do list, tasks, reminders, notes, calendar &amp; agenda always in sync so you\\u2019ll never forget a thing. Sync your phone\\u2019s calendar, google calendar, Facebook events, outlook calendar, or any other calendar so you don\\u2019t forget an important event. Even on your Wear OS device.<br><br>\\u2022 SET REMINDERS - One-time reminders, recurring reminders, Location reminders &amp; voice reminders. NEW! Easily create tasks and get reminders in WhatsApp.<br><br>\\u2022 WORK TOGETHER - Share your to do list and assign tasks with your friends, family &amp; colleagues from your task list to collaborate and get more done. <br><br>---<br><br>ALL-IN-ONE PLANNER AND CALENDAR APP FOR GETTING THINGS DONE<br>Create and set reminders with voice to your to do list. <br>For better task management flow we added a calendar integration to keep your agenda always up to date. <br>For better productivity, we added recurring reminders, location reminders, one-time reminders, sub-tasks, notes &amp; file attachments. <br>To keep your to do list up to date, we\\u2019ve added a daily planner and focus mode.<br><br>INTEGRATIONS<br>Any.do To do list, Calendar, planner &amp; Reminders Integrates with Google Calendar, Outlook, WhatsApp, Slack, Gmail, Google Tasks, Evernote, Trello, Wunderlist, Todoist, Zapier, Asana, Microsoft to-do, Salesforce, OneNote, Google Assistant, Amazon Alexa, Office 365, Exchange, Jira &amp; More.<br><br>TO DO LIST, CALENDAR, PLANNER &amp; REMINDERS MADE SIMPLE<br>Designed to keep you on top of your to do list, tasks and calendar events with no hassle. With intuitive drag and drop of tasks, swiping to mark to-do&#39;s as complete, and shaking your device to remove completed from your to do list - you can stay organized and enjoy every minute of it.<br><br>POWERFUL TO DO LIST TASK MANAGEMENT<br>Add a to do list item straight from your email / Gmail / Outlook inbox by forwarding to do@any.do. Attach files from your computer, Dropbox, or Google Drive to your to-tasks.<br><br>DAILY PLANNER AND LIFE ORGANIZER<br>Any.do is a to do list, a calendar, an inbox, a notepad, a checklist, a task list, a board for post its or sticky notes, a task &amp; project management tool, a reminder app, a daily planner, a family organizer, an agenda, a bill planner and overall the simplest productivity tool you will ever have. <br><br>SHARE LISTS, ASSIGN &amp; ORGANIZE TASKS<br>Planning &amp; organizing projects has never been easier. Now you can share lists between family members, assign tasks to each other, chat, and much more. Any.do will help you and the people around you stay in sync and get reminders so that you can focus on what matters, knowing you had a productive day and crossed off your to do list.<br><br>GROCERY LIST AND SHOPPING LIST<br>Any.do task list, calendar, agenda, reminders &amp; planner is also great for shopping lists at the grocery store. Simply create a list on Any.do, share it with your loved ones, and see them adding their shopping items in real time.\"\u001b[39;49;00m,\u001b[37m\u001b[39;49;00m\n",
      "\u001b[37m  \u001b[39;49;00m\u001b[94m\"developer\"\u001b[39;49;00m:\u001b[37m \u001b[39;49;00m\u001b[33m\"Any.do To-do list & Calendar\"\u001b[39;49;00m,\u001b[37m\u001b[39;49;00m\n",
      "\u001b[37m  \u001b[39;49;00m\u001b[94m\"developerAddress\"\u001b[39;49;00m:\u001b[37m \u001b[39;49;00m\u001b[33m\"Any.do Inc.\\n\\n156 Begin St. 22nd floor, Tel Aviv, Israel\"\u001b[39;49;00m,\u001b[37m\u001b[39;49;00m\n",
      "\u001b[37m  \u001b[39;49;00m\u001b[94m\"developerEmail\"\u001b[39;49;00m:\u001b[37m \u001b[39;49;00m\u001b[33m\"feedback+androidtodo@any.do\"\u001b[39;49;00m,\u001b[37m\u001b[39;49;00m\n",
      "\u001b[37m  \u001b[39;49;00m\u001b[94m\"developerId\"\u001b[39;49;00m:\u001b[37m \u001b[39;49;00m\u001b[33m\"5304780265295461149\"\u001b[39;49;00m,\u001b[37m\u001b[39;49;00m\n",
      "\u001b[37m  \u001b[39;49;00m\u001b[94m\"developerWebsite\"\u001b[39;49;00m:\u001b[37m \u001b[39;49;00m\u001b[33m\"https://www.any.do\"\u001b[39;49;00m,\u001b[37m\u001b[39;49;00m\n",
      "\u001b[37m  \u001b[39;49;00m\u001b[94m\"free\"\u001b[39;49;00m:\u001b[37m \u001b[39;49;00m\u001b[34mtrue\u001b[39;49;00m,\u001b[37m\u001b[39;49;00m\n",
      "\u001b[37m  \u001b[39;49;00m\u001b[94m\"genre\"\u001b[39;49;00m:\u001b[37m \u001b[39;49;00m\u001b[33m\"Productivity\"\u001b[39;49;00m,\u001b[37m\u001b[39;49;00m\n",
      "\u001b[37m  \u001b[39;49;00m\u001b[94m\"genreId\"\u001b[39;49;00m:\u001b[37m \u001b[39;49;00m\u001b[33m\"PRODUCTIVITY\"\u001b[39;49;00m,\u001b[37m\u001b[39;49;00m\n",
      "\u001b[37m  \u001b[39;49;00m\u001b[94m\"headerImage\"\u001b[39;49;00m:\u001b[37m \u001b[39;49;00m\u001b[33m\"https://play-lh.googleusercontent.com/_geX-49OF2YBTZ2sImMLtMEtnOO8otxgsqlE33DMTzOXB8lg8hJOYqcm95ZnCo7mSYQ\"\u001b[39;49;00m,\u001b[37m\u001b[39;49;00m\n",
      "\u001b[37m  \u001b[39;49;00m\u001b[94m\"histogram\"\u001b[39;49;00m:\u001b[37m \u001b[39;49;00m[\u001b[37m\u001b[39;49;00m\n",
      "\u001b[37m    \u001b[39;49;00m\u001b[34m37279\u001b[39;49;00m,\u001b[37m\u001b[39;49;00m\n",
      "\u001b[37m    \u001b[39;49;00m\u001b[34m11911\u001b[39;49;00m,\u001b[37m\u001b[39;49;00m\n",
      "\u001b[37m    \u001b[39;49;00m\u001b[34m23445\u001b[39;49;00m,\u001b[37m\u001b[39;49;00m\n",
      "\u001b[37m    \u001b[39;49;00m\u001b[34m68800\u001b[39;49;00m,\u001b[37m\u001b[39;49;00m\n",
      "\u001b[37m    \u001b[39;49;00m\u001b[34m345926\u001b[39;49;00m\u001b[37m\u001b[39;49;00m\n",
      "\u001b[37m  \u001b[39;49;00m],\u001b[37m\u001b[39;49;00m\n",
      "\u001b[37m  \u001b[39;49;00m\u001b[94m\"icon\"\u001b[39;49;00m:\u001b[37m \u001b[39;49;00m\u001b[33m\"https://play-lh.googleusercontent.com/rmzeq_sIQ0Ajs1R0Dx1FhZevoTgnWfY_enZ1AOkBRdhAjnwFqekzw-o-B2rTRyO0XA\"\u001b[39;49;00m,\u001b[37m\u001b[39;49;00m\n",
      "\u001b[37m  \u001b[39;49;00m\u001b[94m\"inAppProductPrice\"\u001b[39;49;00m:\u001b[37m \u001b[39;49;00m\u001b[33m\"$0.99 - $99.99 per item\"\u001b[39;49;00m,\u001b[37m\u001b[39;49;00m\n",
      "\u001b[37m  \u001b[39;49;00m\u001b[94m\"installs\"\u001b[39;49;00m:\u001b[37m \u001b[39;49;00m\u001b[33m\"10,000,000+\"\u001b[39;49;00m,\u001b[37m\u001b[39;49;00m\n",
      "\u001b[37m  \u001b[39;49;00m\u001b[94m\"lastUpdatedOn\"\u001b[39;49;00m:\u001b[37m \u001b[39;49;00m\u001b[33m\"Aug 8, 2024\"\u001b[39;49;00m,\u001b[37m\u001b[39;49;00m\n",
      "\u001b[37m  \u001b[39;49;00m\u001b[94m\"minInstalls\"\u001b[39;49;00m:\u001b[37m \u001b[39;49;00m\u001b[34m10000000\u001b[39;49;00m,\u001b[37m\u001b[39;49;00m\n",
      "\u001b[37m  \u001b[39;49;00m\u001b[94m\"offersIAP\"\u001b[39;49;00m:\u001b[37m \u001b[39;49;00m\u001b[34mtrue\u001b[39;49;00m,\u001b[37m\u001b[39;49;00m\n",
      "\u001b[37m  \u001b[39;49;00m\u001b[94m\"originalPrice\"\u001b[39;49;00m:\u001b[37m \u001b[39;49;00m\u001b[34mnull\u001b[39;49;00m,\u001b[37m\u001b[39;49;00m\n",
      "\u001b[37m  \u001b[39;49;00m\u001b[94m\"price\"\u001b[39;49;00m:\u001b[37m \u001b[39;49;00m\u001b[34m0\u001b[39;49;00m,\u001b[37m\u001b[39;49;00m\n",
      "\u001b[37m  \u001b[39;49;00m\u001b[94m\"privacyPolicy\"\u001b[39;49;00m:\u001b[37m \u001b[39;49;00m\u001b[33m\"https://www.any.do/legal/privacy-policy\"\u001b[39;49;00m,\u001b[37m\u001b[39;49;00m\n",
      "\u001b[37m  \u001b[39;49;00m\u001b[94m\"ratings\"\u001b[39;49;00m:\u001b[37m \u001b[39;49;00m\u001b[34m487378\u001b[39;49;00m,\u001b[37m\u001b[39;49;00m\n",
      "\u001b[37m  \u001b[39;49;00m\u001b[94m\"realInstalls\"\u001b[39;49;00m:\u001b[37m \u001b[39;49;00m\u001b[34m30482417\u001b[39;49;00m,\u001b[37m\u001b[39;49;00m\n",
      "\u001b[37m  \u001b[39;49;00m\u001b[94m\"released\"\u001b[39;49;00m:\u001b[37m \u001b[39;49;00m\u001b[33m\"Nov 10, 2011\"\u001b[39;49;00m,\u001b[37m\u001b[39;49;00m\n",
      "\u001b[37m  \u001b[39;49;00m\u001b[94m\"reviews\"\u001b[39;49;00m:\u001b[37m \u001b[39;49;00m\u001b[34m36055\u001b[39;49;00m,\u001b[37m\u001b[39;49;00m\n",
      "\u001b[37m  \u001b[39;49;00m\u001b[94m\"sale\"\u001b[39;49;00m:\u001b[37m \u001b[39;49;00m\u001b[34mfalse\u001b[39;49;00m,\u001b[37m\u001b[39;49;00m\n",
      "\u001b[37m  \u001b[39;49;00m\u001b[94m\"saleText\"\u001b[39;49;00m:\u001b[37m \u001b[39;49;00m\u001b[34mnull\u001b[39;49;00m,\u001b[37m\u001b[39;49;00m\n",
      "\u001b[37m  \u001b[39;49;00m\u001b[94m\"saleTime\"\u001b[39;49;00m:\u001b[37m \u001b[39;49;00m\u001b[34mnull\u001b[39;49;00m,\u001b[37m\u001b[39;49;00m\n",
      "\u001b[37m  \u001b[39;49;00m\u001b[94m\"score\"\u001b[39;49;00m:\u001b[37m \u001b[39;49;00m\u001b[34m4.3832808\u001b[39;49;00m,\u001b[37m\u001b[39;49;00m\n",
      "\u001b[37m  \u001b[39;49;00m\u001b[94m\"screenshots\"\u001b[39;49;00m:\u001b[37m \u001b[39;49;00m[\u001b[37m\u001b[39;49;00m\n",
      "\u001b[37m    \u001b[39;49;00m\u001b[33m\"https://play-lh.googleusercontent.com/wsb0X9LBY9jbx_RXiUs2wdfyJH9qwNRa_Zk8Nl6vqfPfH1fPjK0M5QVShqothfJx7Ak\"\u001b[39;49;00m,\u001b[37m\u001b[39;49;00m\n",
      "\u001b[37m    \u001b[39;49;00m\u001b[33m\"https://play-lh.googleusercontent.com/epnpzkILaORuJiCXCQ7WSpvSOQu4SpmollTqY89WWvPPzcJ76XShNVW09dtp2iHuV1Py\"\u001b[39;49;00m,\u001b[37m\u001b[39;49;00m\n",
      "\u001b[37m    \u001b[39;49;00m\u001b[33m\"https://play-lh.googleusercontent.com/gm9mGK3tEJNwPmLG6ZQx3d8HUVOTcZVpbB8Xc7DbICyf4v5kGYEEV-uLAT-Yi1KHVJE\"\u001b[39;49;00m,\u001b[37m\u001b[39;49;00m\n",
      "\u001b[37m    \u001b[39;49;00m\u001b[33m\"https://play-lh.googleusercontent.com/lhmSqZPVDkUy8UGnrkir7Sk-lszM0UkjCTGVgbnbzYTwafuk4I3ULSGBdUH1FBUOCww\"\u001b[39;49;00m,\u001b[37m\u001b[39;49;00m\n",
      "\u001b[37m    \u001b[39;49;00m\u001b[33m\"https://play-lh.googleusercontent.com/p2XbieAuapBsbizaBiO9oYYOGloRVC7ybu6B_OCMEWEincz959IbumhaRsCk5xUIbQ\"\u001b[39;49;00m,\u001b[37m\u001b[39;49;00m\n",
      "\u001b[37m    \u001b[39;49;00m\u001b[33m\"https://play-lh.googleusercontent.com/Tlpa8JidaJCyOytUF00jxsZIgcAo387uWGijhYgkpc_WDfo5fhdTXuih0IzYLoba_Q\"\u001b[39;49;00m,\u001b[37m\u001b[39;49;00m\n",
      "\u001b[37m    \u001b[39;49;00m\u001b[33m\"https://play-lh.googleusercontent.com/3kgYfFwVbPKcVHDxI_L21CqGi36iTObsjEqbancZq-Fu3SSsaIFqdjvcFT8f2c0Vb0M\"\u001b[39;49;00m,\u001b[37m\u001b[39;49;00m\n",
      "\u001b[37m    \u001b[39;49;00m\u001b[33m\"https://play-lh.googleusercontent.com/GhD1C0yj5a9v0-Uj87BKDVZBBSG094fyc7s5R3BmESVUoxiF9CicJcU-IWDYJRApIg\"\u001b[39;49;00m,\u001b[37m\u001b[39;49;00m\n",
      "\u001b[37m    \u001b[39;49;00m\u001b[33m\"https://play-lh.googleusercontent.com/Egq1oWZF3CHZe1cw3_J5Bf843GV5ZszWkPjFDJz7xYnpfKKpYlakSRpGPGu1-PKLRzM\"\u001b[39;49;00m,\u001b[37m\u001b[39;49;00m\n",
      "\u001b[37m    \u001b[39;49;00m\u001b[33m\"https://play-lh.googleusercontent.com/Lq8Hog5P23Cx_zhsJhw7b3H66zdqX_wHsLiaOUYHeZ3wIayDRmlxFEI0fxirDHcaoVJd\"\u001b[39;49;00m,\u001b[37m\u001b[39;49;00m\n",
      "\u001b[37m    \u001b[39;49;00m\u001b[33m\"https://play-lh.googleusercontent.com/TzBzayivG92JmuHXGqnzw6292JmmyFYPH63NPd_-KusTnsOYlaUQFgxAkI1os4ykVT8\"\u001b[39;49;00m,\u001b[37m\u001b[39;49;00m\n",
      "\u001b[37m    \u001b[39;49;00m\u001b[33m\"https://play-lh.googleusercontent.com/fyjt_rfJLBTcuoMoFSbJ71klX3uU9eAr-Fx326hvHLflohCGvJadkkjEgO9DsIECGNPn\"\u001b[39;49;00m,\u001b[37m\u001b[39;49;00m\n",
      "\u001b[37m    \u001b[39;49;00m\u001b[33m\"https://play-lh.googleusercontent.com/yq_7B3690DGT9a3WBWZfxN0555XQjbPJF_1cJlXBhHk7UKExQiAY8gRP4uOMF4o8Y2xK\"\u001b[39;49;00m,\u001b[37m\u001b[39;49;00m\n",
      "\u001b[37m    \u001b[39;49;00m\u001b[33m\"https://play-lh.googleusercontent.com/LoxGVQshOgIsw-eDw2-h7txyJ-YNtvJ0ytndtvQPsM4jhPsrAq7pI_oSNjQYybDJ8IQ\"\u001b[39;49;00m,\u001b[37m\u001b[39;49;00m\n",
      "\u001b[37m    \u001b[39;49;00m\u001b[33m\"https://play-lh.googleusercontent.com/3YWr1krEcasMlEBN9GkugSu61q6GxvQ_eCbd63v5Nqp2O1Lag-ZGTHmJmOGFUxhB5Q4\"\u001b[39;49;00m,\u001b[37m\u001b[39;49;00m\n",
      "\u001b[37m    \u001b[39;49;00m\u001b[33m\"https://play-lh.googleusercontent.com/1JscXh8WSCRaQtviLiEr-JDCN8KdaqhOlqaJWzIp4oW-RaAIlAiCsvizlC62jx7Mem4\"\u001b[39;49;00m,\u001b[37m\u001b[39;49;00m\n",
      "\u001b[37m    \u001b[39;49;00m\u001b[33m\"https://play-lh.googleusercontent.com/I2tF42azSzHXOihYJv9FsvGOKb0D7-xPhBb6NaxSDZt8yyO_Rs16gPVFK7VZ-njrWw\"\u001b[39;49;00m,\u001b[37m\u001b[39;49;00m\n",
      "\u001b[37m    \u001b[39;49;00m\u001b[33m\"https://play-lh.googleusercontent.com/vrVgO6-iYTma8itjw_3NsUegLyABVkcN8PFPwlxHx56MltqJdKxoVUFtwkKLTlJGHoQ\"\u001b[39;49;00m,\u001b[37m\u001b[39;49;00m\n",
      "\u001b[37m    \u001b[39;49;00m\u001b[33m\"https://play-lh.googleusercontent.com/wQQwqDvwj5FlTKDCrrTPTVbx_rk4YZ7-T6NDgfSs9OLrZ92pbgounIL1nJ1GlduTa6k\"\u001b[39;49;00m,\u001b[37m\u001b[39;49;00m\n",
      "\u001b[37m    \u001b[39;49;00m\u001b[33m\"https://play-lh.googleusercontent.com/R3-0IIqzSJGsOPfBtLTOZ0ktPJfFJehQ48ARg3q4uRDn7dSGJA0KUAy9rFDgydmLYkGr\"\u001b[39;49;00m,\u001b[37m\u001b[39;49;00m\n",
      "\u001b[37m    \u001b[39;49;00m\u001b[33m\"https://play-lh.googleusercontent.com/L3nv-QGvuDakDWoDo8BhHFnNl8ccun8NOCP76XZEk6EHYTU0o-_CywdYjKC32F_b7M5V\"\u001b[39;49;00m,\u001b[37m\u001b[39;49;00m\n",
      "\u001b[37m    \u001b[39;49;00m\u001b[33m\"https://play-lh.googleusercontent.com/VlNP7PasHV-QKx_eQxuWlsCvCmPOWYC_g8jS3CR5nk374UdB52DxY8z4OUsBsKB8-A\"\u001b[39;49;00m,\u001b[37m\u001b[39;49;00m\n",
      "\u001b[37m    \u001b[39;49;00m\u001b[33m\"https://play-lh.googleusercontent.com/GpiBMKRi3EHkjzFpzX9k2QU1Z4t5wu9fIqyTds-JQ7VUPhwV_-s-_80JV1K6R2WiVb8\"\u001b[39;49;00m,\u001b[37m\u001b[39;49;00m\n",
      "\u001b[37m    \u001b[39;49;00m\u001b[33m\"https://play-lh.googleusercontent.com/4sr45hJRND2pVP6jR3y71NLGoaf8AVPTYP3Z6GQa3F_oF_Wj93D55PLH07b9jyZxh0A\"\u001b[39;49;00m,\u001b[37m\u001b[39;49;00m\n",
      "\u001b[37m    \u001b[39;49;00m\u001b[33m\"https://play-lh.googleusercontent.com/2ScF6NgZIlbZlSjmPELym746_dcw9EE9G5WpU6PO6QdAo4dE_OcaZq2RItYVI_W2P-A\"\u001b[39;49;00m\u001b[37m\u001b[39;49;00m\n",
      "\u001b[37m  \u001b[39;49;00m],\u001b[37m\u001b[39;49;00m\n",
      "\u001b[37m  \u001b[39;49;00m\u001b[94m\"summary\"\u001b[39;49;00m:\u001b[37m \u001b[39;49;00m\u001b[33m\"Daily planner with to-do list & tasks, reminders, checklists, calendar & agenda\"\u001b[39;49;00m,\u001b[37m\u001b[39;49;00m\n",
      "\u001b[37m  \u001b[39;49;00m\u001b[94m\"title\"\u001b[39;49;00m:\u001b[37m \u001b[39;49;00m\u001b[33m\"Any.do - To do list & Calendar\"\u001b[39;49;00m,\u001b[37m\u001b[39;49;00m\n",
      "\u001b[37m  \u001b[39;49;00m\u001b[94m\"updated\"\u001b[39;49;00m:\u001b[37m \u001b[39;49;00m\u001b[34m1723115793\u001b[39;49;00m,\u001b[37m\u001b[39;49;00m\n",
      "\u001b[37m  \u001b[39;49;00m\u001b[94m\"url\"\u001b[39;49;00m:\u001b[37m \u001b[39;49;00m\u001b[33m\"https://play.google.com/store/apps/details?id=com.anydo&hl=en&gl=us\"\u001b[39;49;00m,\u001b[37m\u001b[39;49;00m\n",
      "\u001b[37m  \u001b[39;49;00m\u001b[94m\"version\"\u001b[39;49;00m:\u001b[37m \u001b[39;49;00m\u001b[33m\"Varies with device\"\u001b[39;49;00m,\u001b[37m\u001b[39;49;00m\n",
      "\u001b[37m  \u001b[39;49;00m\u001b[94m\"video\"\u001b[39;49;00m:\u001b[37m \u001b[39;49;00m\u001b[34mnull\u001b[39;49;00m,\u001b[37m\u001b[39;49;00m\n",
      "\u001b[37m  \u001b[39;49;00m\u001b[94m\"videoImage\"\u001b[39;49;00m:\u001b[37m \u001b[39;49;00m\u001b[34mnull\u001b[39;49;00m\u001b[37m\u001b[39;49;00m\n",
      "}\u001b[37m\u001b[39;49;00m\n",
      "\n"
     ]
    }
   ],
   "source": [
    "print_json(app_infos[0])"
   ]
  },
  {
   "cell_type": "markdown",
   "metadata": {
    "id": "r-TwrzCHPJn0"
   },
   "source": [
    "We'll store the app information for later by converting the JSON objects into a Pandas dataframe and saving the result into a CSV file:"
   ]
  },
  {
   "cell_type": "code",
   "execution_count": 9,
   "metadata": {
    "id": "JJeUc7xjBxuq"
   },
   "outputs": [],
   "source": [
    "app_infos_df = pd.DataFrame(app_infos)\n",
    "app_infos_df.to_csv('apps.csv', index=None, header=True)"
   ]
  },
  {
   "cell_type": "markdown",
   "metadata": {
    "id": "mXqklWjwPLVv"
   },
   "source": [
    "## Scraping App Reviews <a id='Scraping_App_Reviews'></a>\n",
    "\n",
    "We will use the scraping package option to filter the review score to get a balanced datset, we'll sort the reviews by their helpfulness, which are the reviews that Google Play thinks are most important in order to obtain a representative sample of the reviews for each app."
   ]
  },
  {
   "cell_type": "code",
   "execution_count": 10,
   "metadata": {
    "colab": {
     "base_uri": "https://localhost:8080/"
    },
    "id": "vRIID99ZCfjv",
    "outputId": "4c9ec836-ab3d-4782-c946-31faf1b40dc9"
   },
   "outputs": [
    {
     "name": "stderr",
     "output_type": "stream",
     "text": [
      "100%|██████████| 15/15 [01:51<00:00,  7.45s/it]\n"
     ]
    }
   ],
   "source": [
    "app_reviews = []\n",
    "\n",
    "for ap in tqdm(app_packages):\n",
    "  for score in list(range(1, 6)):\n",
    "    for sort_order in [Sort.MOST_RELEVANT, Sort.NEWEST]:\n",
    "      rvs, _ = reviews(\n",
    "        ap,\n",
    "        lang='en',\n",
    "        country='us',\n",
    "        sort=sort_order,\n",
    "        count= 200 if score == 3 else 100,\n",
    "        filter_score_with=score\n",
    "      )\n",
    "      for r in rvs:\n",
    "        r['sortOrder'] = 'most_relevant' if sort_order == Sort.MOST_RELEVANT else 'newest'\n",
    "        r['appId'] = ap\n",
    "      app_reviews.extend(rvs)"
   ]
  },
  {
   "cell_type": "code",
   "execution_count": 11,
   "metadata": {
    "colab": {
     "base_uri": "https://localhost:8080/"
    },
    "id": "tF5exqgWCh1Q",
    "outputId": "0a5a7faa-636a-4973-ca9d-f9fdaae51db3"
   },
   "outputs": [
    {
     "name": "stdout",
     "output_type": "stream",
     "text": [
      "{\u001b[37m\u001b[39;49;00m\n",
      "\u001b[37m  \u001b[39;49;00m\u001b[94m\"appId\"\u001b[39;49;00m:\u001b[37m \u001b[39;49;00m\u001b[33m\"com.anydo\"\u001b[39;49;00m,\u001b[37m\u001b[39;49;00m\n",
      "\u001b[37m  \u001b[39;49;00m\u001b[94m\"appVersion\"\u001b[39;49;00m:\u001b[37m \u001b[39;49;00m\u001b[33m\"5.18.2.3\"\u001b[39;49;00m,\u001b[37m\u001b[39;49;00m\n",
      "\u001b[37m  \u001b[39;49;00m\u001b[94m\"at\"\u001b[39;49;00m:\u001b[37m \u001b[39;49;00m\u001b[33m\"2024-08-21 10:43:17\"\u001b[39;49;00m,\u001b[37m\u001b[39;49;00m\n",
      "\u001b[37m  \u001b[39;49;00m\u001b[94m\"content\"\u001b[39;49;00m:\u001b[37m \u001b[39;49;00m\u001b[33m\"The new update is terrible. I really dislike the new agenda view. Why would remove the bullet task list from the monthly view on the mobile format? For me, the simplicity of design, logical functionality, and visual appeal set anydo apart from the others. I don't know that I will continue to use it. I wish I could uninstall the update.\"\u001b[39;49;00m,\u001b[37m\u001b[39;49;00m\n",
      "\u001b[37m  \u001b[39;49;00m\u001b[94m\"repliedAt\"\u001b[39;49;00m:\u001b[37m \u001b[39;49;00m\u001b[33m\"2024-08-23 11:07:55\"\u001b[39;49;00m,\u001b[37m\u001b[39;49;00m\n",
      "\u001b[37m  \u001b[39;49;00m\u001b[94m\"replyContent\"\u001b[39;49;00m:\u001b[37m \u001b[39;49;00m\u001b[33m\"If you're referring to the monthly spread, you can still see it in your Calendar View by simply tapping the drop down icon next to the month's title as explained right here: https://support.any.do/en/articles/8610677-navigating-through-the-calendar-views#h_c7b272a071 . For assistance, please reach out via https://www.any.do/contact_form\\n\"\u001b[39;49;00m,\u001b[37m\u001b[39;49;00m\n",
      "\u001b[37m  \u001b[39;49;00m\u001b[94m\"reviewCreatedVersion\"\u001b[39;49;00m:\u001b[37m \u001b[39;49;00m\u001b[33m\"5.18.2.3\"\u001b[39;49;00m,\u001b[37m\u001b[39;49;00m\n",
      "\u001b[37m  \u001b[39;49;00m\u001b[94m\"reviewId\"\u001b[39;49;00m:\u001b[37m \u001b[39;49;00m\u001b[33m\"06cd8540-20e4-4e00-8feb-43aa510a6075\"\u001b[39;49;00m,\u001b[37m\u001b[39;49;00m\n",
      "\u001b[37m  \u001b[39;49;00m\u001b[94m\"score\"\u001b[39;49;00m:\u001b[37m \u001b[39;49;00m\u001b[34m1\u001b[39;49;00m,\u001b[37m\u001b[39;49;00m\n",
      "\u001b[37m  \u001b[39;49;00m\u001b[94m\"sortOrder\"\u001b[39;49;00m:\u001b[37m \u001b[39;49;00m\u001b[33m\"most_relevant\"\u001b[39;49;00m,\u001b[37m\u001b[39;49;00m\n",
      "\u001b[37m  \u001b[39;49;00m\u001b[94m\"thumbsUpCount\"\u001b[39;49;00m:\u001b[37m \u001b[39;49;00m\u001b[34m6\u001b[39;49;00m,\u001b[37m\u001b[39;49;00m\n",
      "\u001b[37m  \u001b[39;49;00m\u001b[94m\"userImage\"\u001b[39;49;00m:\u001b[37m \u001b[39;49;00m\u001b[33m\"https://play-lh.googleusercontent.com/a/ACg8ocIXvLAcXKepiJ1DPJN3Lk2L1TcKzoFELr7r5gfi_zaiWO-KiQ=mo\"\u001b[39;49;00m,\u001b[37m\u001b[39;49;00m\n",
      "\u001b[37m  \u001b[39;49;00m\u001b[94m\"userName\"\u001b[39;49;00m:\u001b[37m \u001b[39;49;00m\u001b[33m\"jenny selby\"\u001b[39;49;00m\u001b[37m\u001b[39;49;00m\n",
      "}\u001b[37m\u001b[39;49;00m\n",
      "\n"
     ]
    }
   ],
   "source": [
    "print_json(app_reviews[0])"
   ]
  },
  {
   "cell_type": "markdown",
   "metadata": {
    "id": "R5hErADbOiMU"
   },
   "source": [
    "`repliedAt` and `replyContent` contain the developer response to the review. Of course.\n",
    "\n"
   ]
  },
  {
   "cell_type": "code",
   "execution_count": 12,
   "metadata": {
    "colab": {
     "base_uri": "https://localhost:8080/"
    },
    "id": "e2YjMDQDOdC5",
    "outputId": "1af2578d-e600-48b7-b3d4-f7a9e4a067a8"
   },
   "outputs": [
    {
     "data": {
      "text/plain": [
       "17670"
      ]
     },
     "execution_count": 12,
     "metadata": {},
     "output_type": "execute_result"
    }
   ],
   "source": [
    "len(app_reviews)"
   ]
  },
  {
   "cell_type": "markdown",
   "metadata": {
    "id": "K7FZVC0nOcJ9"
   },
   "source": [
    "Saving the reviews to a CSV file:"
   ]
  },
  {
   "cell_type": "code",
   "execution_count": 13,
   "metadata": {
    "id": "1L7Nq2uwCjRI"
   },
   "outputs": [],
   "source": [
    "app_reviews_df = pd.DataFrame(app_reviews)\n",
    "app_reviews_df.to_csv('reviews.csv', index=None, header=True)"
   ]
  },
  {
   "cell_type": "markdown",
   "metadata": {
    "id": "Ve-yHopLEz1v"
   },
   "source": [
    "## Summary <a id=\"Summary\"></a>\n",
    "\n",
    "We now have a dataset with more than 15k user reviews from 15 productivity apps.\n",
    "\n",
    "Next, we're going to use the reviews for sentiment analysis with BERT. But first, we'll have to do some text preprocessing!\n"
   ]
  },
  {
   "cell_type": "markdown",
   "metadata": {
    "id": "Z7Jd157eUaa-"
   },
   "source": [
    "## References <a id=\"References\"></a>\n",
    "\n",
    "- [Google Play Scraper for Python](https://github.com/JoMingyu/google-play-scraper)"
   ]
  }
 ],
 "metadata": {
  "colab": {
   "provenance": []
  },
  "kernelspec": {
   "display_name": "Python 3 (ipykernel)",
   "language": "python",
   "name": "python3"
  },
  "language_info": {
   "codemirror_mode": {
    "name": "ipython",
    "version": 3
   },
   "file_extension": ".py",
   "mimetype": "text/x-python",
   "name": "python",
   "nbconvert_exporter": "python",
   "pygments_lexer": "ipython3",
   "version": "3.9.19"
  }
 },
 "nbformat": 4,
 "nbformat_minor": 4
}
